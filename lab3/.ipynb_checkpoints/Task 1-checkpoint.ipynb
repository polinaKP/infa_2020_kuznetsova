{
 "cells": [
  {
   "cell_type": "code",
   "execution_count": null,
   "metadata": {},
   "outputs": [
    {
     "name": "stdout",
     "output_type": "stream",
     "text": [
      "pygame 1.9.4\n",
      "Hello from the pygame community. https://www.pygame.org/contribute.html\n"
     ]
    }
   ],
   "source": []
  },
  {
   "cell_type": "code",
   "execution_count": null,
   "metadata": {},
   "outputs": [],
   "source": []
  },
  {
   "cell_type": "code",
   "execution_count": null,
   "metadata": {},
   "outputs": [
    {
     "name": "stdout",
     "output_type": "stream",
     "text": [
      "pygame 1.9.4\n",
      "Hello from the pygame community. https://www.pygame.org/contribute.html\n"
     ]
    }
   ],
   "source": [
    "import pygame\n",
    "from pygame.draw import *\n",
    "\n",
    "pygame.init()\n",
    "\n",
    "FPS = 30\n",
    "screen = pygame.display.set_mode((400, 400))\n",
    "rect(screen, (255, 255, 255), (0, 0, 400, 400))\n",
    "\n",
    "circle(screen, (255, 255, 0), (200, 200), 80, 0)\n",
    "circle(screen, (0, 0, 0), (200, 200), 80, 1)\n",
    "rect(screen, (0, 0, 0), (155, 230, 90, 16))\n",
    "circle(screen, (220, 20, 60), (170, 175), 17, 0)\n",
    "circle(screen, (0, 0, 0), (170, 175), 17, 1)\n",
    "circle(screen, (0, 0, 0), (170, 175), 9, 0)\n",
    "circle(screen, (220, 20, 60), (230, 175), 14, 0)\n",
    "circle(screen, (0, 0, 0), (230, 175), 14, 1)\n",
    "circle(screen, (0, 0, 0), (230, 175), 7, 0)\n",
    "polygon(screen, (0, 0, 0), [(130,136), (135,129), (195,159), (190,166), (130,136)])\n",
    "polygon(screen, (0, 0, 0), [(210,168), (205,161), (270,131), (275,138), (210,168)])\n",
    "\n",
    "pygame.display.update()\n",
    "clock = pygame.time.Clock()\n",
    "finished = False\n",
    "\n",
    "while not finished:\n",
    "    clock.tick(FPS)\n",
    "    for event in pygame.event.get():\n",
    "        if event.type == pygame.QUIT:\n",
    "            finished = True\n",
    "\n",
    "pygame.quit()"
   ]
  },
  {
   "cell_type": "code",
   "execution_count": null,
   "metadata": {},
   "outputs": [],
   "source": []
  }
 ],
 "metadata": {
  "kernelspec": {
   "display_name": "Python 3",
   "language": "python",
   "name": "python3"
  },
  "language_info": {
   "codemirror_mode": {
    "name": "ipython",
    "version": 3
   },
   "file_extension": ".py",
   "mimetype": "text/x-python",
   "name": "python",
   "nbconvert_exporter": "python",
   "pygments_lexer": "ipython3",
   "version": "3.6.8"
  }
 },
 "nbformat": 4,
 "nbformat_minor": 2
}
